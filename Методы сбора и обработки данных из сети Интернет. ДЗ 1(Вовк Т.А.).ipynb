{
 "cells": [
  {
   "cell_type": "markdown",
   "id": "353303e2",
   "metadata": {},
   "source": [
    "Посмотреть документацию к API GitHub, разобраться как вывести список репозиториев для конкретного пользователя, сохранить JSON-вывод в файле *.json."
   ]
  },
  {
   "cell_type": "code",
   "execution_count": 1,
   "id": "0d15cfa0",
   "metadata": {},
   "outputs": [],
   "source": [
    "import requests\n",
    "from pprint import pprint"
   ]
  },
  {
   "cell_type": "markdown",
   "id": "cf68d5a3",
   "metadata": {},
   "source": [
    "Буду брать информацию по своему репозиторию:"
   ]
  },
  {
   "cell_type": "code",
   "execution_count": 2,
   "id": "40a87fb8",
   "metadata": {
    "scrolled": false
   },
   "outputs": [
    {
     "name": "stdout",
     "output_type": "stream",
     "text": [
      "Заголовки: \n",
      " {'Server': 'GitHub.com', 'Date': 'Sun, 12 Feb 2023 11:02:22 GMT', 'Content-Type': 'application/json; charset=utf-8', 'Cache-Control': 'public, max-age=60, s-maxage=60', 'Vary': 'Accept, Accept-Encoding, Accept, X-Requested-With', 'ETag': 'W/\"b5ccf7b2ce2e46333b3bab861b63503735e367904587321d7827c046278ecd65\"', 'Last-Modified': 'Tue, 25 Oct 2022 15:42:11 GMT', 'X-GitHub-Media-Type': 'github.v3; format=json', 'x-github-api-version-selected': '2022-11-28', 'Access-Control-Expose-Headers': 'ETag, Link, Location, Retry-After, X-GitHub-OTP, X-RateLimit-Limit, X-RateLimit-Remaining, X-RateLimit-Used, X-RateLimit-Resource, X-RateLimit-Reset, X-OAuth-Scopes, X-Accepted-OAuth-Scopes, X-Poll-Interval, X-GitHub-Media-Type, X-GitHub-SSO, X-GitHub-Request-Id, Deprecation, Sunset', 'Access-Control-Allow-Origin': '*', 'Strict-Transport-Security': 'max-age=31536000; includeSubdomains; preload', 'X-Frame-Options': 'deny', 'X-Content-Type-Options': 'nosniff', 'X-XSS-Protection': '0', 'Referrer-Policy': 'origin-when-cross-origin, strict-origin-when-cross-origin', 'Content-Security-Policy': \"default-src 'none'\", 'Content-Encoding': 'gzip', 'X-RateLimit-Limit': '60', 'X-RateLimit-Remaining': '58', 'X-RateLimit-Reset': '1676203261', 'X-RateLimit-Resource': 'core', 'X-RateLimit-Used': '2', 'Accept-Ranges': 'bytes', 'Content-Length': '1277', 'X-GitHub-Request-Id': 'CE5F:FD43:6CCBF25:6ED00EE:63E8C73E'}\n",
      "Код состояния HTTP:  200\n",
      "(\"Ответ:{'id': 557387904, 'node_id': 'R_kgDOITkQgA', 'name': \"\n",
      " \"'VovkTatyana-Python-Libraries-for-Data-Science-Numpy-Matplotlib-Scikit-learn', \"\n",
      " \"'full_name': \"\n",
      " \"'VovkTatyana/VovkTatyana-Python-Libraries-for-Data-Science-Numpy-Matplotlib-Scikit-learn', \"\n",
      " \"'private': False, 'owner': {'login': 'VovkTatyana', 'id': 107269003, \"\n",
      " \"'node_id': 'U_kgDOBmTLiw', 'avatar_url': \"\n",
      " \"'https://avatars.githubusercontent.com/u/107269003?v=4', 'gravatar_id': '', \"\n",
      " \"'url': 'https://api.github.com/users/VovkTatyana', 'html_url': \"\n",
      " \"'https://github.com/VovkTatyana', 'followers_url': \"\n",
      " \"'https://api.github.com/users/VovkTatyana/followers', 'following_url': \"\n",
      " \"'https://api.github.com/users/VovkTatyana/following{/other_user}', \"\n",
      " \"'gists_url': 'https://api.github.com/users/VovkTatyana/gists{/gist_id}', \"\n",
      " \"'starred_url': \"\n",
      " \"'https://api.github.com/users/VovkTatyana/starred{/owner}{/repo}', \"\n",
      " \"'subscriptions_url': \"\n",
      " \"'https://api.github.com/users/VovkTatyana/subscriptions', \"\n",
      " \"'organizations_url': 'https://api.github.com/users/VovkTatyana/orgs', \"\n",
      " \"'repos_url': 'https://api.github.com/users/VovkTatyana/repos', 'events_url': \"\n",
      " \"'https://api.github.com/users/VovkTatyana/events{/privacy}', \"\n",
      " \"'received_events_url': \"\n",
      " \"'https://api.github.com/users/VovkTatyana/received_events', 'type': 'User', \"\n",
      " \"'site_admin': False}, 'html_url': \"\n",
      " \"'https://github.com/VovkTatyana/VovkTatyana-Python-Libraries-for-Data-Science-Numpy-Matplotlib-Scikit-learn', \"\n",
      " \"'description': None, 'fork': False, 'url': \"\n",
      " \"'https://api.github.com/repos/VovkTatyana/VovkTatyana-Python-Libraries-for-Data-Science-Numpy-Matplotlib-Scikit-learn', \"\n",
      " \"'forks_url': \"\n",
      " \"'https://api.github.com/repos/VovkTatyana/VovkTatyana-Python-Libraries-for-Data-Science-Numpy-Matplotlib-Scikit-learn/forks', \"\n",
      " \"'keys_url': \"\n",
      " \"'https://api.github.com/repos/VovkTatyana/VovkTatyana-Python-Libraries-for-Data-Science-Numpy-Matplotlib-Scikit-learn/keys{/key_id}', \"\n",
      " \"'collaborators_url': \"\n",
      " \"'https://api.github.com/repos/VovkTatyana/VovkTatyana-Python-Libraries-for-Data-Science-Numpy-Matplotlib-Scikit-learn/collaborators{/collaborator}', \"\n",
      " \"'teams_url': \"\n",
      " \"'https://api.github.com/repos/VovkTatyana/VovkTatyana-Python-Libraries-for-Data-Science-Numpy-Matplotlib-Scikit-learn/teams', \"\n",
      " \"'hooks_url': \"\n",
      " \"'https://api.github.com/repos/VovkTatyana/VovkTatyana-Python-Libraries-for-Data-Science-Numpy-Matplotlib-Scikit-learn/hooks', \"\n",
      " \"'issue_events_url': \"\n",
      " \"'https://api.github.com/repos/VovkTatyana/VovkTatyana-Python-Libraries-for-Data-Science-Numpy-Matplotlib-Scikit-learn/issues/events{/number}', \"\n",
      " \"'events_url': \"\n",
      " \"'https://api.github.com/repos/VovkTatyana/VovkTatyana-Python-Libraries-for-Data-Science-Numpy-Matplotlib-Scikit-learn/events', \"\n",
      " \"'assignees_url': \"\n",
      " \"'https://api.github.com/repos/VovkTatyana/VovkTatyana-Python-Libraries-for-Data-Science-Numpy-Matplotlib-Scikit-learn/assignees{/user}', \"\n",
      " \"'branches_url': \"\n",
      " \"'https://api.github.com/repos/VovkTatyana/VovkTatyana-Python-Libraries-for-Data-Science-Numpy-Matplotlib-Scikit-learn/branches{/branch}', \"\n",
      " \"'tags_url': \"\n",
      " \"'https://api.github.com/repos/VovkTatyana/VovkTatyana-Python-Libraries-for-Data-Science-Numpy-Matplotlib-Scikit-learn/tags', \"\n",
      " \"'blobs_url': \"\n",
      " \"'https://api.github.com/repos/VovkTatyana/VovkTatyana-Python-Libraries-for-Data-Science-Numpy-Matplotlib-Scikit-learn/git/blobs{/sha}', \"\n",
      " \"'git_tags_url': \"\n",
      " \"'https://api.github.com/repos/VovkTatyana/VovkTatyana-Python-Libraries-for-Data-Science-Numpy-Matplotlib-Scikit-learn/git/tags{/sha}', \"\n",
      " \"'git_refs_url': \"\n",
      " \"'https://api.github.com/repos/VovkTatyana/VovkTatyana-Python-Libraries-for-Data-Science-Numpy-Matplotlib-Scikit-learn/git/refs{/sha}', \"\n",
      " \"'trees_url': \"\n",
      " \"'https://api.github.com/repos/VovkTatyana/VovkTatyana-Python-Libraries-for-Data-Science-Numpy-Matplotlib-Scikit-learn/git/trees{/sha}', \"\n",
      " \"'statuses_url': \"\n",
      " \"'https://api.github.com/repos/VovkTatyana/VovkTatyana-Python-Libraries-for-Data-Science-Numpy-Matplotlib-Scikit-learn/statuses/{sha}', \"\n",
      " \"'languages_url': \"\n",
      " \"'https://api.github.com/repos/VovkTatyana/VovkTatyana-Python-Libraries-for-Data-Science-Numpy-Matplotlib-Scikit-learn/languages', \"\n",
      " \"'stargazers_url': \"\n",
      " \"'https://api.github.com/repos/VovkTatyana/VovkTatyana-Python-Libraries-for-Data-Science-Numpy-Matplotlib-Scikit-learn/stargazers', \"\n",
      " \"'contributors_url': \"\n",
      " \"'https://api.github.com/repos/VovkTatyana/VovkTatyana-Python-Libraries-for-Data-Science-Numpy-Matplotlib-Scikit-learn/contributors', \"\n",
      " \"'subscribers_url': \"\n",
      " \"'https://api.github.com/repos/VovkTatyana/VovkTatyana-Python-Libraries-for-Data-Science-Numpy-Matplotlib-Scikit-learn/subscribers', \"\n",
      " \"'subscription_url': \"\n",
      " \"'https://api.github.com/repos/VovkTatyana/VovkTatyana-Python-Libraries-for-Data-Science-Numpy-Matplotlib-Scikit-learn/subscription', \"\n",
      " \"'commits_url': \"\n",
      " \"'https://api.github.com/repos/VovkTatyana/VovkTatyana-Python-Libraries-for-Data-Science-Numpy-Matplotlib-Scikit-learn/commits{/sha}', \"\n",
      " \"'git_commits_url': \"\n",
      " \"'https://api.github.com/repos/VovkTatyana/VovkTatyana-Python-Libraries-for-Data-Science-Numpy-Matplotlib-Scikit-learn/git/commits{/sha}', \"\n",
      " \"'comments_url': \"\n",
      " \"'https://api.github.com/repos/VovkTatyana/VovkTatyana-Python-Libraries-for-Data-Science-Numpy-Matplotlib-Scikit-learn/comments{/number}', \"\n",
      " \"'issue_comment_url': \"\n",
      " \"'https://api.github.com/repos/VovkTatyana/VovkTatyana-Python-Libraries-for-Data-Science-Numpy-Matplotlib-Scikit-learn/issues/comments{/number}', \"\n",
      " \"'contents_url': \"\n",
      " \"'https://api.github.com/repos/VovkTatyana/VovkTatyana-Python-Libraries-for-Data-Science-Numpy-Matplotlib-Scikit-learn/contents/{+path}', \"\n",
      " \"'compare_url': \"\n",
      " \"'https://api.github.com/repos/VovkTatyana/VovkTatyana-Python-Libraries-for-Data-Science-Numpy-Matplotlib-Scikit-learn/compare/{base}...{head}', \"\n",
      " \"'merges_url': \"\n",
      " \"'https://api.github.com/repos/VovkTatyana/VovkTatyana-Python-Libraries-for-Data-Science-Numpy-Matplotlib-Scikit-learn/merges', \"\n",
      " \"'archive_url': \"\n",
      " \"'https://api.github.com/repos/VovkTatyana/VovkTatyana-Python-Libraries-for-Data-Science-Numpy-Matplotlib-Scikit-learn/{archive_format}{/ref}', \"\n",
      " \"'downloads_url': \"\n",
      " \"'https://api.github.com/repos/VovkTatyana/VovkTatyana-Python-Libraries-for-Data-Science-Numpy-Matplotlib-Scikit-learn/downloads', \"\n",
      " \"'issues_url': \"\n",
      " \"'https://api.github.com/repos/VovkTatyana/VovkTatyana-Python-Libraries-for-Data-Science-Numpy-Matplotlib-Scikit-learn/issues{/number}', \"\n",
      " \"'pulls_url': \"\n",
      " \"'https://api.github.com/repos/VovkTatyana/VovkTatyana-Python-Libraries-for-Data-Science-Numpy-Matplotlib-Scikit-learn/pulls{/number}', \"\n",
      " \"'milestones_url': \"\n",
      " \"'https://api.github.com/repos/VovkTatyana/VovkTatyana-Python-Libraries-for-Data-Science-Numpy-Matplotlib-Scikit-learn/milestones{/number}', \"\n",
      " \"'notifications_url': \"\n",
      " \"'https://api.github.com/repos/VovkTatyana/VovkTatyana-Python-Libraries-for-Data-Science-Numpy-Matplotlib-Scikit-learn/notifications{?since,all,participating}', \"\n",
      " \"'labels_url': \"\n",
      " \"'https://api.github.com/repos/VovkTatyana/VovkTatyana-Python-Libraries-for-Data-Science-Numpy-Matplotlib-Scikit-learn/labels{/name}', \"\n",
      " \"'releases_url': \"\n",
      " \"'https://api.github.com/repos/VovkTatyana/VovkTatyana-Python-Libraries-for-Data-Science-Numpy-Matplotlib-Scikit-learn/releases{/id}', \"\n",
      " \"'deployments_url': \"\n",
      " \"'https://api.github.com/repos/VovkTatyana/VovkTatyana-Python-Libraries-for-Data-Science-Numpy-Matplotlib-Scikit-learn/deployments', \"\n",
      " \"'created_at': '2022-10-25T15:42:11Z', 'updated_at': '2022-10-25T15:42:11Z', \"\n",
      " \"'pushed_at': '2022-12-15T17:08:28Z', 'git_url': \"\n",
      " \"'git://github.com/VovkTatyana/VovkTatyana-Python-Libraries-for-Data-Science-Numpy-Matplotlib-Scikit-learn.git', \"\n",
      " \"'ssh_url': \"\n",
      " \"'git@github.com:VovkTatyana/VovkTatyana-Python-Libraries-for-Data-Science-Numpy-Matplotlib-Scikit-learn.git', \"\n",
      " \"'clone_url': \"\n",
      " \"'https://github.com/VovkTatyana/VovkTatyana-Python-Libraries-for-Data-Science-Numpy-Matplotlib-Scikit-learn.git', \"\n",
      " \"'svn_url': \"\n",
      " \"'https://github.com/VovkTatyana/VovkTatyana-Python-Libraries-for-Data-Science-Numpy-Matplotlib-Scikit-learn', \"\n",
      " \"'homepage': None, 'size': 856, 'stargazers_count': 0, 'watchers_count': 0, \"\n",
      " \"'language': None, 'has_issues': True, 'has_projects': True, 'has_downloads': \"\n",
      " \"True, 'has_wiki': True, 'has_pages': False, 'has_discussions': False, \"\n",
      " \"'forks_count': 0, 'mirror_url': None, 'archived': False, 'disabled': False, \"\n",
      " \"'open_issues_count': 6, 'license': None, 'allow_forking': True, \"\n",
      " \"'is_template': False, 'web_commit_signoff_required': False, 'topics': [], \"\n",
      " \"'visibility': 'public', 'forks': 0, 'open_issues': 6, 'watchers': 0, \"\n",
      " \"'default_branch': 'main', 'temp_clone_token': None, 'network_count': 0, \"\n",
      " \"'subscribers_count': 1}\")\n"
     ]
    }
   ],
   "source": [
    "req=requests.get('https://api.github.com/repos/VovkTatyana/VovkTatyana-Python-Libraries-for-Data-Science-Numpy-Matplotlib-Scikit-learn')\n",
    "print('Заголовки: \\n',  req.headers)\n",
    "print('Код состояния HTTP: ', req.status_code)\n",
    "pprint(f'Ответ:{req.json()}')"
   ]
  },
  {
   "cell_type": "markdown",
   "id": "612c9608",
   "metadata": {},
   "source": [
    "Изучить список открытых API (https://www.programmableweb.com/category/all/apis). Найти среди них любое, требующее авторизацию (любого типа). Выполнить запросы к нему, пройдя авторизацию. Ответ сервера записать в файл.\n",
    "Если нет желания заморачиваться с поиском, возьмите API вконтакте (https://vk.com/dev/first_guide). Сделайте запрос, чтобы получить список всех сообществ на которые вы подписаны."
   ]
  },
  {
   "cell_type": "markdown",
   "id": "d3f649ad",
   "metadata": {},
   "source": [
    "Буду делать запрос на один из самых популярных веб-сайтов НАСА на Astronomy Picture of the Day, предварительно получив api_key,\n",
    "что бы пройти авторизацию.\n",
    "По запросу возвращаются объяснения изображения. "
   ]
  },
  {
   "cell_type": "code",
   "execution_count": 3,
   "id": "e23f12fc",
   "metadata": {},
   "outputs": [
    {
     "name": "stdout",
     "output_type": "stream",
     "text": [
      "{'date': '2023-02-12',\n",
      " 'explanation': 'When do cloud bottoms appear like bubbles? Normally, cloud '\n",
      "                'bottoms are flat. This is because moist warm air that rises '\n",
      "                'and cools will condense into water droplets at a specific '\n",
      "                'temperature, which usually corresponds to a very specific '\n",
      "                'height.  As water droplets grow, an opaque cloud forms.  '\n",
      "                'Under some conditions, however, cloud pockets can develop '\n",
      "                'that contain large droplets of water or ice that fall into '\n",
      "                'clear air as they evaporate.  Such pockets may occur in '\n",
      "                'turbulent air near a thunderstorm.  Resulting mammatus clouds '\n",
      "                'can appear especially dramatic if sunlit from the side.  The '\n",
      "                'mammatus clouds pictured here were photographed over '\n",
      "                'Hastings, Nebraska during 2004 June.',\n",
      " 'hdurl': 'https://apod.nasa.gov/apod/image/2302/mammatus_olson_1024.jpg',\n",
      " 'media_type': 'image',\n",
      " 'service_version': 'v1',\n",
      " 'title': 'Mammatus Clouds over Nebraska',\n",
      " 'url': 'https://apod.nasa.gov/apod/image/2302/mammatus_olson_960.jpg'}\n"
     ]
    }
   ],
   "source": [
    "api_key = 'XgevGj9G0dYsYsuerRnWLzZfTwNc3C89LPPANqbk'\n",
    "url = 'https://api.nasa.gov/planetary/apod'\n",
    "req = requests.get(f'{url}?api_key={api_key}')\n",
    "pprint(req.json())\n"
   ]
  }
 ],
 "metadata": {
  "kernelspec": {
   "display_name": "Python 3 (ipykernel)",
   "language": "python",
   "name": "python3"
  },
  "language_info": {
   "codemirror_mode": {
    "name": "ipython",
    "version": 3
   },
   "file_extension": ".py",
   "mimetype": "text/x-python",
   "name": "python",
   "nbconvert_exporter": "python",
   "pygments_lexer": "ipython3",
   "version": "3.9.12"
  }
 },
 "nbformat": 4,
 "nbformat_minor": 5
}
