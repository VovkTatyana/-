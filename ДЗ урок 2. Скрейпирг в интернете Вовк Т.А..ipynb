{
 "cells": [
  {
   "cell_type": "markdown",
   "id": "960326ad",
   "metadata": {},
   "source": [
    "Написать приложение и функцию, которые собирают основные новости с сайта на выбор dzen.ru, lenta.ru, mail.ru . Для парсинга использовать XPath\n",
    "Структура данных должна содержать:\n",
    "* название источника\n",
    "* наименование новости\n",
    "* ссылку на новость\n",
    "* дата публикации\n"
   ]
  },
  {
   "cell_type": "code",
   "execution_count": 1,
   "id": "7fa23b41",
   "metadata": {},
   "outputs": [],
   "source": [
    "from pprint import pprint\n",
    "from lxml import html\n",
    "import requests"
   ]
  },
  {
   "cell_type": "code",
   "execution_count": 2,
   "id": "97c54a0f",
   "metadata": {},
   "outputs": [],
   "source": [
    "# Парсить буду новости с сайта Лента.ru\n",
    "url = 'https://lenta.ru/parts/news'\n",
    "headers = {'User-Agent' : 'Mozilla/5.0 (Windows NT 10.0; Win64; x64) AppleWebKit/537.36 (KHTML, like Gecko) Chrome/110.0.0.0 Safari/537.36',}\n",
    "response = requests.get(url, headers=headers)"
   ]
  },
  {
   "cell_type": "code",
   "execution_count": 3,
   "id": "f77a3928",
   "metadata": {},
   "outputs": [
    {
     "data": {
      "text/plain": [
       "'https://lenta.ru/parts/news'"
      ]
     },
     "execution_count": 3,
     "metadata": {},
     "output_type": "execute_result"
    }
   ],
   "source": [
    "response.url"
   ]
  },
  {
   "cell_type": "code",
   "execution_count": 4,
   "id": "921328fe",
   "metadata": {},
   "outputs": [
    {
     "data": {
      "text/plain": [
       "[<Element a at 0x7710168>,\n",
       " <Element a at 0x7710190>,\n",
       " <Element a at 0x77101b8>,\n",
       " <Element a at 0x77101e0>,\n",
       " <Element a at 0x7710208>,\n",
       " <Element a at 0x7710230>,\n",
       " <Element a at 0x7710258>,\n",
       " <Element a at 0x7710280>,\n",
       " <Element a at 0x77102a8>,\n",
       " <Element a at 0x77102d0>,\n",
       " <Element a at 0x77102f8>,\n",
       " <Element a at 0x7710320>,\n",
       " <Element a at 0x7710348>,\n",
       " <Element a at 0x7710370>,\n",
       " <Element a at 0x7710398>,\n",
       " <Element a at 0x77103c0>,\n",
       " <Element a at 0x77103e8>,\n",
       " <Element a at 0x7710410>,\n",
       " <Element a at 0x7710438>,\n",
       " <Element a at 0x7710460>]"
      ]
     },
     "execution_count": 4,
     "metadata": {},
     "output_type": "execute_result"
    }
   ],
   "source": [
    "dom = html.fromstring(response.text)\n",
    "news = dom.xpath('//div/div/main/div/div/ul/li/a[@class=\"card-full-news _parts-news\"]') #делаю основную ссылку\n",
    "news #проверка отработки"
   ]
  },
  {
   "cell_type": "code",
   "execution_count": 5,
   "id": "8882142f",
   "metadata": {},
   "outputs": [
    {
     "data": {
      "text/plain": [
       "{'Источник: Лента.ru. Новость: Жертвой обстрела села в Белгородской области оказалась 12-летняя девочка': {'link': 'https://lenta.ru/parts/news/news/2023/02/19/12/',\n",
       "  'date': '20:58'},\n",
       " 'Источник: Лента.ru. Новость: Даниил Медведев выиграл турнир ATP': {'link': 'https://lenta.ru/parts/news/news/2023/02/19/daniil/',\n",
       "  'date': '20:56'},\n",
       " 'Источник: Лента.ru. Новость: Мясников назвал основные правила жизни при остеопорозе': {'link': 'https://lenta.ru/parts/newshttps://moslenta.ru/news/city/pravila-zhizni-pri-osteoporoze-19-02-2023.htm/',\n",
       "  'date': '20:44'},\n",
       " 'Источник: Лента.ru. Новость: В США предрекли скорое обучение украинских пилотов управлению истребителями F-16': {'link': 'https://lenta.ru/parts/news/news/2023/02/19/us_ua_f16/',\n",
       "  'date': '20:43'},\n",
       " 'Источник: Лента.ru. Новость: СМИ назвали цель новых санкций США против России': {'link': 'https://lenta.ru/parts/news/news/2023/02/19/new_us_sanctions/',\n",
       "  'date': '20:26'},\n",
       " 'Источник: Лента.ru. Новость: Названы способствующие продлению молодости продукты': {'link': 'https://lenta.ru/parts/newshttps://moslenta.ru/news/lyudi/produkty-19-02-2023.htm',\n",
       "  'date': '20:22'},\n",
       " 'Источник: Лента.ru. Новость: Муж убитой ножом пенсионерки стал главным подозреваемым': {'link': 'https://lenta.ru/parts/news/news/2023/02/19/murder_82/',\n",
       "  'date': '20:19'},\n",
       " 'Источник: Лента.ru. Новость: В Словакии положительно оценили идею передать Украине нелетающие МиГ-29': {'link': 'https://lenta.ru/parts/news/news/2023/02/19/slovakia/',\n",
       "  'date': '20:16'},\n",
       " 'Источник: Лента.ru. Новость: Блогерша купила модные сапоги и осталась с ногами Патрика из «Спанч Боба»': {'link': 'https://lenta.ru/parts/news/news/2023/02/19/patrick/',\n",
       "  'date': '20:13'},\n",
       " 'Источник: Лента.ru. Новость: Требование США к Украине об усилении боев объяснили': {'link': 'https://lenta.ru/parts/news/news/2023/02/19/shvtkn/',\n",
       "  'date': '20:08'},\n",
       " 'Источник: Лента.ru. Новость: В Москве вырос средний чек продуктов для блинов': {'link': 'https://lenta.ru/parts/newshttps://moslenta.ru/news/city/srednii-chek-19-02-2023.htm/',\n",
       "  'date': '20:05'},\n",
       " 'Источник: Лента.ru. Новость: Мусоровоз насмерть задавил женщину в Москве': {'link': 'https://lenta.ru/parts/news/news/2023/02/19/musorovoz/',\n",
       "  'date': '20:04'},\n",
       " 'Источник: Лента.ru. Новость: Майк Тайсон назвал главный трюк Макгрегора': {'link': 'https://lenta.ru/parts/news/news/2023/02/19/tayson/',\n",
       "  'date': '19:57'},\n",
       " 'Источник: Лента.ru. Новость: В США назвали бесполезное для поставок Украине оружие': {'link': 'https://lenta.ru/parts/news/news/2023/02/19/blinken_weapons/',\n",
       "  'date': '19:45'},\n",
       " 'Источник: Лента.ru. Новость: В Конгрессе США заявили о прогрессе в вопросе передачи Украине истребителей': {'link': 'https://lenta.ru/parts/news/news/2023/02/19/f_16_progress/',\n",
       "  'date': '19:31'},\n",
       " 'Источник: Лента.ru. Новость: Land Rover Defender получил мотор от GM и цвет от Subaru': {'link': 'https://lenta.ru/parts/newshttps://motor.ru/news/defender-ecd-19-02-2023.htm',\n",
       "  'date': '19:27'},\n",
       " 'Источник: Лента.ru. Новость: Вдова и дочь Кена Блока проведут сезон в ралли': {'link': 'https://lenta.ru/parts/newshttps://motor.ru/news/blok-rally-19-02-2023.htm',\n",
       "  'date': '19:27'},\n",
       " 'Источник: Лента.ru. Новость: Гонку самых мощных пикапов показали на видео': {'link': 'https://lenta.ru/parts/newshttps://motor.ru/news/pickup-drag-19-02-2023.htm',\n",
       "  'date': '19:27'},\n",
       " 'Источник: Лента.ru. Новость: Nissan X-Trail с трудом прошёл «лосиный тест»': {'link': 'https://lenta.ru/parts/newshttps://motor.ru/news/xtrail-moose-19-02-2023.htm',\n",
       "  'date': '19:27'},\n",
       " 'Источник: Лента.ru. Новость: Бастрыкин назвал предателями покинувших Россию знаменитостей': {'link': 'https://lenta.ru/parts/news/news/2023/02/19/skrnelzya/',\n",
       "  'date': '19:27'}}"
      ]
     },
     "execution_count": 5,
     "metadata": {},
     "output_type": "execute_result"
    }
   ],
   "source": [
    "news_dict = {} # создаем словарь\n",
    "# Через цикл будем собирать названия, ссылки, и время (новости меняются постоянно, поэтому указывается не дата, а время)\n",
    "for new in news:\n",
    "    news_name = new.xpath('./h3/text()')[0]\n",
    "    news_links = url + new.xpath('./@href')[0]\n",
    "    news_time = new.xpath('./div/time/text()')[0]\n",
    "    \n",
    "    news_dict['Источник: Лента.ru. ' + 'Новость: ' + news_name] = {\n",
    "        'link': news_links,\n",
    "        'date': news_time\n",
    "    }\n",
    "    \n",
    "news_dict\n"
   ]
  },
  {
   "cell_type": "code",
   "execution_count": null,
   "id": "0b999384",
   "metadata": {},
   "outputs": [],
   "source": []
  }
 ],
 "metadata": {
  "kernelspec": {
   "display_name": "Python 3 (ipykernel)",
   "language": "python",
   "name": "python3"
  },
  "language_info": {
   "codemirror_mode": {
    "name": "ipython",
    "version": 3
   },
   "file_extension": ".py",
   "mimetype": "text/x-python",
   "name": "python",
   "nbconvert_exporter": "python",
   "pygments_lexer": "ipython3",
   "version": "3.9.12"
  }
 },
 "nbformat": 4,
 "nbformat_minor": 5
}
